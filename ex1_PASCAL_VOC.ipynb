{
 "cells": [
  {
   "cell_type": "markdown",
   "id": "052bd907-50c6-416f-877b-23e3a9f2a031",
   "metadata": {
    "tags": []
   },
   "source": [
    "# PASCAL VOC DataLoader & Bounding Boxes"
   ]
  },
  {
   "cell_type": "markdown",
   "id": "6501e0cb-7ba6-4cdc-9d27-10f9dd78e605",
   "metadata": {},
   "source": [
    "## 1. Prepare PASCAL VOC2007 dataset."
   ]
  },
  {
   "cell_type": "code",
   "execution_count": 1,
   "id": "cb0e1b9a-6ded-42af-86fa-bbb81a7a6b32",
   "metadata": {
    "scrolled": true,
    "tags": []
   },
   "outputs": [
    {
     "name": "stdout",
     "output_type": "stream",
     "text": [
      "--2023-01-07 13:27:27--  https://docs.google.com/uc?export=download&confirm=t&id=1FSPPvm6-QZ43pCYzPA3-pyN7RZ0rq5DT\n",
      "Resolving docs.google.com (docs.google.com)... 142.250.76.142, 2404:6800:400a:805::200e\n",
      "Connecting to docs.google.com (docs.google.com)|142.250.76.142|:443... connected.\n",
      "HTTP request sent, awaiting response... 303 See Other\n",
      "Location: https://doc-04-1k-docs.googleusercontent.com/docs/securesc/ha0ro937gcuc7l7deffksulhg5h7mbp1/goj2726mgp31266np97f49ppveb37mni/1673097975000/16525786242263481678/*/1FSPPvm6-QZ43pCYzPA3-pyN7RZ0rq5DT?e=download&uuid=addbcfc8-255d-4cf7-8ff6-b9a47a1eb12c [following]\n",
      "Warning: wildcards not supported in HTTP.\n",
      "--2023-01-07 13:27:28--  https://doc-04-1k-docs.googleusercontent.com/docs/securesc/ha0ro937gcuc7l7deffksulhg5h7mbp1/goj2726mgp31266np97f49ppveb37mni/1673097975000/16525786242263481678/*/1FSPPvm6-QZ43pCYzPA3-pyN7RZ0rq5DT?e=download&uuid=addbcfc8-255d-4cf7-8ff6-b9a47a1eb12c\n",
      "Resolving doc-04-1k-docs.googleusercontent.com (doc-04-1k-docs.googleusercontent.com)... 142.250.76.129, 2404:6800:400a:804::2001\n",
      "Connecting to doc-04-1k-docs.googleusercontent.com (doc-04-1k-docs.googleusercontent.com)|142.250.76.129|:443... connected.\n",
      "HTTP request sent, awaiting response... 200 OK\n",
      "Length: 892858331 (851M) [application/zip]\n",
      "Saving to: ‘VOC2007.zip’\n",
      "\n",
      "VOC2007.zip         100%[===================>] 851.50M  10.6MB/s    in 81s     \n",
      "\n",
      "2023-01-07 13:28:50 (10.5 MB/s) - ‘VOC2007.zip’ saved [892858331/892858331]\n",
      "\n"
     ]
    }
   ],
   "source": [
    "## link: https://drive.google.com/file/d/1FSPPvm6-QZ43pCYzPA3-pyN7RZ0rq5DT/view?usp=sharing\n",
    "## id: 1FSPPvm6-QZ43pCYzPA3-pyN7RZ0rq5DT\n",
    "## filename: VOC2007.zip\n",
    "\n",
    "!wget --load-cookies ~/cookies.txt \"https://docs.google.com/uc?export=download&confirm=$(wget --quiet --save-cookies ~/cookies.txt --keep-session-cookies --no-check-certificate 'https://docs.google.com/uc?export=download&id=1FSPPvm6-QZ43pCYzPA3-pyN7RZ0rq5DT' -O- | sed -rn 's/.*confirm=([0-9A-Za-z_]+).*/\\1\\n/p')&id=1FSPPvm6-QZ43pCYzPA3-pyN7RZ0rq5DT\" -O VOC2007.zip && rm -rf ~/cookies.txt"
   ]
  },
  {
   "cell_type": "code",
   "execution_count": 2,
   "id": "5a732f89-3471-4a30-852f-32751ca8d3dd",
   "metadata": {},
   "outputs": [],
   "source": [
    "import zipfile\n",
    "with zipfile.ZipFile('VOC2007.zip', 'r')as f:\n",
    "    f.extractall('./')\n",
    "\n",
    "!rm -rf VOC2007.zip\n",
    "!rm -rf __MACOSX"
   ]
  },
  {
   "cell_type": "markdown",
   "id": "de0f592c-2005-479f-9821-f4565dbfab91",
   "metadata": {},
   "source": [
    "## 2. Import packages."
   ]
  },
  {
   "cell_type": "code",
   "execution_count": 3,
   "id": "6c44865d-05de-4545-bf34-7fb10130cfa4",
   "metadata": {},
   "outputs": [],
   "source": [
    "import os\n",
    "\n",
    "import numpy as np\n",
    "import scipy.io as sio\n",
    "import pickle\n",
    "import torch\n",
    "import torch.utils.data as data\n",
    "import xml.etree.ElementTree as ET\n",
    "from PIL import Image\n",
    "import matplotlib.pyplot as plt\n",
    "import matplotlib.patches as patches\n",
    "from torchvision import transforms"
   ]
  },
  {
   "cell_type": "code",
   "execution_count": 4,
   "id": "74f5405e-4802-4f67-9c1c-c927ce6050ca",
   "metadata": {},
   "outputs": [],
   "source": [
    "VOC2007_CLASSES = (\n",
    "    '__background__',\n",
    "    'aeroplane', 'bicycle', 'bird', 'boat',\n",
    "    'bottle', 'bus', 'car', 'cat', 'chair',\n",
    "    'cow', 'diningtable', 'dog', 'horse',\n",
    "    'motorbike', 'person', 'pottedplant',\n",
    "    'sheep', 'sofa', 'train', 'tvmonitor'\n",
    ")\n",
    "\n",
    "# Define bbox color\n",
    "VOC2007_COLORS = [\n",
    "    [0.,        0.,        0.       ],\n",
    " [0.5019608, 0.,        0.       ],\n",
    " [0.,        0.5019608, 0.       ],\n",
    " [0.5019608, 0.5019608, 0.       ],\n",
    " [0.,        0.,        0.5019608],\n",
    " [0.5019608, 0.,        0.5019608],\n",
    " [0.,        0.5019608, 0.5019608],\n",
    " [0.5019608, 0.5019608, 0.5019608],\n",
    " [0.2509804, 0.,        0.       ],\n",
    " [0.7529412, 0.,        0.       ],\n",
    " [0.2509804, 0.5019608, 0.       ],\n",
    " [0.7529412, 0.5019608, 0.       ],\n",
    " [0.2509804, 0.,        0.5019608],\n",
    " [0.7529412, 0.,        0.5019608],\n",
    " [0.2509804, 0.5019608, 0.5019608],\n",
    " [0.7529412, 0.5019608, 0.5019608],\n",
    " [0.,        0.2509804, 0.       ],\n",
    " [0.5019608, 0.2509804, 0.       ],\n",
    " [0.,        0.7529412, 0.       ],\n",
    " [0.5019608, 0.7529412, 0.       ],\n",
    " [0.,        0.2509804, 0.5019608]]"
   ]
  },
  {
   "cell_type": "markdown",
   "id": "8be2e2cf-90e9-4d6f-a953-e719c02473ed",
   "metadata": {},
   "source": [
    "## 3. Load an annotation file (working with a XML file)."
   ]
  },
  {
   "cell_type": "markdown",
   "id": "2fc4021b-e9e5-498f-abff-734d720452f7",
   "metadata": {},
   "source": [
    "### xml file example\n",
    "- open any xml file by web browsers"
   ]
  },
  {
   "cell_type": "markdown",
   "id": "aef88841-c99f-413c-ae53-713d129b4f98",
   "metadata": {},
   "source": [
    "- output of \"__getitems__\" should be\n",
    "\n",
    ">image : a PIL Image of size (H, W)  \n",
    ">target : a dict containing the following key  \n",
    ">>boxes (FloatTensor[N, 4]) :  the coordinates of the N bounding boxes in [x0, y0, x1, y1] format, ranging from 0 to W and 0 to H  \n",
    ">>labels (Int64Tensor[N]) : the label for each bounding box  \n",
    ">>image_id (Int64Tensor[1]): an image identifier. It should be unique between all the images in the dataset, and is used during evaluation  \n",
    ">>area (Tensor[N]): The area of the bounding box. This is used during evaluation with the COCO metric, to separate the metric scores between small, medium and large boxes.  \n",
    ">>iscrowd (UInt8Tensor[N]): instances with iscrowd=True will be ignored during evaluation(all set zero) "
   ]
  },
  {
   "cell_type": "code",
   "execution_count": null,
   "id": "8dcbfc2c-2ac5-4512-a06f-9f8ea59a9a64",
   "metadata": {},
   "outputs": [],
   "source": [
    "### Parse xml file\n",
    "sample_idx = 1\n",
    "filename = os.path.join(f'./VOC2007/Annotations/{sample_idx:06d}.xml')\n",
    "tree = ET.parse(filename)"
   ]
  },
  {
   "cell_type": "code",
   "execution_count": null,
   "id": "ad64a02c-a71c-4a97-9a86-6465c6f8d152",
   "metadata": {},
   "outputs": [],
   "source": [
    "### explore xml file\n",
    "root = tree.getroot()\n",
    "print(\"root.tag:\", root.tag)\n",
    "for node in root:\n",
    "    print(\">>>>\", node.tag)\n",
    "print('\\n')\n",
    "\n",
    "print(\"node.tag:\", node.tag)\n",
    "for node2 in node:  ### iterate the final object\n",
    "    print(f\">>>> {node2.tag}: {node2.text}\")\n",
    "print(\"\\n\")\n",
    "\n",
    "print(\"node2.tag:\", node2.tag)\n",
    "for node3 in node2: ### iterate the final bndbox (bounding box)\n",
    "    print(f\">>>> {node3.tag}: {node3.text}\")"
   ]
  },
  {
   "cell_type": "markdown",
   "id": "cdb633ea-5a62-4cdf-bf52-c6d23250c4fb",
   "metadata": {},
   "source": [
    "### 3-1. Find all objects"
   ]
  },
  {
   "cell_type": "code",
   "execution_count": null,
   "id": "a0587ec0-5c61-4fa7-abcc-461e4302d4e3",
   "metadata": {},
   "outputs": [],
   "source": [
    "objs = tree.findall('object')\n",
    "num_objs = len(objs)\n",
    "print(\"the number of objects:\", num_objs)\n",
    "print(\"objs:\", objs) # List[Element]\n",
    "\n",
    "for obj_idx, obj in enumerate(objs):\n",
    "    for node in obj:\n",
    "        print(f\">>>> {obj_idx}th {node.tag}: {node.text}\")\n",
    "        for node2 in node:\n",
    "            print(f\">>>> {obj_idx}th bounding box's {node2.tag}: {node2.text}\")\n",
    "    print(\"\")"
   ]
  },
  {
   "cell_type": "markdown",
   "id": "3ba1b4b8-e764-447a-a6c7-5b2b290e2708",
   "metadata": {},
   "source": [
    "### 3-2. Obtain bounding boxes as np.ndarray."
   ]
  },
  {
   "cell_type": "code",
   "execution_count": null,
   "id": "7a145d0a-7369-42d4-9370-133a53c3c012",
   "metadata": {},
   "outputs": [],
   "source": [
    "boxes = np.zeros((num_objs, 4), dtype=np.int32)\n",
    "classes = []\n",
    "for obj_idx, obj in enumerate(objs):\n",
    "    ###Get bounding boxes\n",
    "    bbox = obj.find('bndbox')\n",
    "    x1 = float(bbox.find('xmin').text) - 1 # correct coordinates\n",
    "    y1 = float(bbox.find('ymin').text) - 1\n",
    "    x2 = float(bbox.find('xmax').text) - 1\n",
    "    y2 = float(bbox.find('ymax').text) - 1\n",
    "    boxes[obj_idx, :] = [x1, y1, x2, y2]\n",
    "    \n",
    "    ###Get Categories\n",
    "    object_class = obj.find('name').text   # class name *as string\n",
    "    classes.append(object_class)\n",
    "    \n",
    "print(boxes)\n",
    "print(classes)"
   ]
  },
  {
   "cell_type": "code",
   "execution_count": null,
   "id": "4d43a60e-2185-4641-b3da-432ff03e9597",
   "metadata": {},
   "outputs": [],
   "source": [
    "img = Image.open(f'./VOC2007/JPEGImages/{sample_idx:06d}.jpg')\n",
    "fig, ax = plt.subplots(1)\n",
    "ax.imshow(img)"
   ]
  },
  {
   "cell_type": "code",
   "execution_count": null,
   "id": "3f4b1910-8e77-4cc6-8164-6430530d5114",
   "metadata": {},
   "outputs": [],
   "source": [
    "def draw_bb(img, boxes, classes, red_only=False):\n",
    "    fig,ax = plt.subplots(1)\n",
    "    for box, class_ in zip(boxes, classes):\n",
    "        rect = patches.Rectangle(\n",
    "            (box[0], box[1]), # the upper left point\n",
    "            box[2]-box[0], # delta_x: width\n",
    "            box[3]-box[1], # delta_y: height\n",
    "            linewidth=3, # thickness\n",
    "            edgecolor='r' if red_only else VOC2007_COLORS[VOC2007_CLASSES.index(class_)],\n",
    "            facecolor='none'\n",
    "        )\n",
    "        ax.add_patch(rect)\n",
    "    ax.imshow(img)\n",
    "\n",
    "draw_bb(img, boxes, classes, True)"
   ]
  },
  {
   "cell_type": "markdown",
   "id": "2b07a34d-fb11-471d-9a25-7ab0a286b9d9",
   "metadata": {},
   "source": [
    "## 4. Define PASCAL VOC2007 dataset."
   ]
  },
  {
   "cell_type": "code",
   "execution_count": null,
   "id": "41e0e144-7af4-451f-927b-3e0e5221aece",
   "metadata": {},
   "outputs": [],
   "source": [
    "class PASCAL_DATASET(data.Dataset):\n",
    "    def __init__(self, data_root, img_list_file):        \n",
    "        self.data_root = data_root        \n",
    "        self.img_list = []\n",
    "        self._load_img_name_list(img_list_file)               \n",
    "\n",
    "    def _load_img_name_list(self, img_list_file):\n",
    "        with open(img_list_file) as f:\n",
    "            self.img_list = f.read().splitlines()\n",
    "                                  \n",
    "    def _load_annotation(self, img_path):\n",
    "        filename = os.path.join(self.data_root, 'Annotations', img_path + '.xml')\n",
    "        tree = ET.parse(filename)\n",
    "        objs = tree.findall('object')\n",
    "        num_objs = len(objs)\n",
    "        boxes = np.zeros((num_objs, 4), dtype=np.int32)\n",
    "        gt_classes_str = []\n",
    "        \n",
    "        for ix, obj in enumerate(objs):\n",
    "            bbox = obj.find('bndbox')\n",
    "            # Make pixel indexes 0-based\n",
    "            x1 = float(bbox.find('xmin').text) - 1\n",
    "            y1 = float(bbox.find('ymin').text) - 1\n",
    "            x2 = float(bbox.find('xmax').text) - 1\n",
    "            y2 = float(bbox.find('ymax').text) - 1\n",
    "            gt_classes_str.append(obj.find('name').text)\n",
    "            boxes[ix, :] = [x1, y1, x2, y2]\n",
    "\n",
    "        return boxes, gt_classes_str\n",
    "                                      \n",
    "    def __len__(self,):\n",
    "        return len(self.img_list)\n",
    "\n",
    "    def __getitem__(self, index):\n",
    "        img_path = self.img_list[index]\n",
    "        img = Image.open(os.path.join(self.data_root, 'JPEGImages', img_path + '.jpg'))\n",
    "        boxes, gt_classes_str = self._load_annotation(img_path)\n",
    "        return img, boxes, gt_classes_str"
   ]
  },
  {
   "cell_type": "code",
   "execution_count": null,
   "id": "dc44fec3-fdbb-4895-aa5e-3839eae873c4",
   "metadata": {},
   "outputs": [],
   "source": [
    "pascal_data = PASCAL_DATASET('./VOC2007','./VOC2007/ImageSets/Main/train.txt')"
   ]
  },
  {
   "cell_type": "code",
   "execution_count": null,
   "id": "86bc9a19-b95b-48a5-ae12-8c2cb3c59641",
   "metadata": {},
   "outputs": [],
   "source": [
    "pascal_it = iter(pascal_data)\n",
    "first_data = next(pascal_it)"
   ]
  },
  {
   "cell_type": "code",
   "execution_count": null,
   "id": "9eb3fb73-e741-4333-8e7a-5e80e8b63692",
   "metadata": {},
   "outputs": [],
   "source": [
    "first_data"
   ]
  },
  {
   "cell_type": "code",
   "execution_count": null,
   "id": "44f7a69b-802a-434d-abb3-177d1ca5b598",
   "metadata": {},
   "outputs": [],
   "source": [
    "draw_bb(first_data[0], first_data[1], first_data[2], True)"
   ]
  },
  {
   "cell_type": "code",
   "execution_count": null,
   "id": "e2b6e896-b18f-4bae-af49-b5e8145853b2",
   "metadata": {},
   "outputs": [],
   "source": [
    "next_data = next(pascal_it)\n",
    "print(next_data)\n",
    "draw_bb(next_data[0], next_data[1], next_data[2])"
   ]
  }
 ],
 "metadata": {
  "kernelspec": {
   "display_name": "Python 3",
   "language": "python",
   "name": "python3"
  },
  "language_info": {
   "codemirror_mode": {
    "name": "ipython",
    "version": 3
   },
   "file_extension": ".py",
   "mimetype": "text/x-python",
   "name": "python",
   "nbconvert_exporter": "python",
   "pygments_lexer": "ipython3",
   "version": "3.8.8"
  }
 },
 "nbformat": 4,
 "nbformat_minor": 5
}
